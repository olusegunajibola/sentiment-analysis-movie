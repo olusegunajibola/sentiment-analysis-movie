{
 "cells": [
  {
   "cell_type": "markdown",
   "metadata": {},
   "source": [
    "# Text Translation and Sentiment Analysis using Transformers"
   ]
  },
  {
   "cell_type": "markdown",
   "metadata": {},
   "source": [
    "## Project Overview:\n",
    "\n",
    "The objective of this project is to analyze the sentiment of movie reviews in three different languages - English, French, and Spanish. We have been given 30 movies, 10 in each language, along with their reviews and synopses in separate CSV files named `movie_reviews_eng.csv`, `movie_reviews_fr.csv`, and `movie_reviews_sp.csv`.\n",
    "\n",
    "- The first step of this project is to convert the French and Spanish reviews and synopses into English. This will allow us to analyze the sentiment of all reviews in the same language. We will be using pre-trained transformers from HuggingFace to achieve this task.\n",
    "\n",
    "- Once the translations are complete, we will create a single dataframe that contains all the movies along with their reviews, synopses, and year of release in all three languages. This dataframe will be used to perform sentiment analysis on the reviews of each movie.\n",
    "\n",
    "- Finally, we will use pretrained transformers from HuggingFace to analyze the sentiment of each review. The sentiment analysis results will be added to the dataframe. The final dataframe will have 30 rows\n",
    "\n",
    "\n",
    "The output of the project will be a CSV file with a header row that includes column names such as **Title**, **Year**, **Synopsis**, **Review**, **Review Sentiment**, and **Original Language**. The **Original Language** column will indicate the language of the review and synopsis (*en/fr/sp*) before translation. The dataframe will consist of 30 rows, with each row corresponding to a movie."
   ]
  },
  {
   "cell_type": "code",
   "metadata": {
    "ExecuteTime": {
     "end_time": "2024-09-05T18:45:59.404211Z",
     "start_time": "2024-09-05T18:45:49.896122Z"
    }
   },
   "source": [
    "# imports\n",
    "import pandas as pd\n",
    "from transformers import MarianMTModel, MarianTokenizer\n",
    "from transformers import pipeline\n",
    "\n",
    "# import warnings\n",
    "# warnings.filterwarnings(\"ignore\")"
   ],
   "outputs": [],
   "execution_count": 1
  },
  {
   "cell_type": "markdown",
   "metadata": {},
   "source": [
    "### Get data from `.csv` files and then preprocess data"
   ]
  },
  {
   "cell_type": "code",
   "metadata": {
    "ExecuteTime": {
     "end_time": "2024-09-05T18:46:33.136702Z",
     "start_time": "2024-09-05T18:46:33.109987Z"
    }
   },
   "source": [
    "def preprocess_data() -> pd.DataFrame:\n",
    "    \"\"\"\n",
    "    Reads movie data from .csv files, map column names, add the \"Original Language\" column,\n",
    "    and finally concatenate in one resultant dataframe called \"df\".\n",
    "    \"\"\"\n",
    "    \n",
    "    # Read English movie reviews\n",
    "    df_eng = pd.read_csv(\"data/movie_reviews_eng_.csv\")\n",
    "    df_eng = df_eng.rename(columns={'Movie / TV Series': 'Title', 'Year': 'Year', 'Synopsis': 'Synopsis', 'Review': 'Review'})\n",
    "    df_eng['Original Language'] = 'English'\n",
    "    \n",
    "    # Read French movie reviews\n",
    "    df_fr = pd.read_csv(\"data/movie_reviews_fr.csv\")\n",
    "    df_fr = df_fr.rename(columns={'Titre': 'Title', 'Année': 'Year', 'Synopsis': 'Synopsis', 'Critiques': 'Review'})\n",
    "    df_fr['Original Language'] = 'French'\n",
    "    \n",
    "    # Read Spanish movie reviews\n",
    "    df_sp = pd.read_csv(\"data/movie_reviews_sp_.csv\")\n",
    "    df_sp = df_sp.rename(columns={'Título': 'Title', 'Año': 'Year', 'Sinopsis': 'Synopsis', 'Críticas': 'Review'})\n",
    "    df_sp['Original Language'] = 'Spanish'\n",
    "    \n",
    "    # Concatenate all dataframes into one resultant dataframe called \"df\"\n",
    "    df = pd.concat([df_eng, df_fr, df_sp], ignore_index=True)\n",
    "    \n",
    "    return df\n",
    "\n",
    "df = preprocess_data()"
   ],
   "outputs": [],
   "execution_count": 2
  },
  {
   "cell_type": "code",
   "metadata": {
    "ExecuteTime": {
     "end_time": "2024-09-05T18:46:37.445808Z",
     "start_time": "2024-09-05T18:46:37.421188Z"
    }
   },
   "source": [
    "df.sample(10)"
   ],
   "outputs": [
    {
     "data": {
      "text/plain": [
       "                                  Title         Year  \\\n",
       "18            Les Visiteurs en Amérique         2000   \n",
       "7                         The Nice Guys         2016   \n",
       "20                                 Roma         2018   \n",
       "11                         Intouchables         2011   \n",
       "12                               Amélie         2001   \n",
       "25                         Águila Roja   (2009-2016)   \n",
       "6           Scott Pilgrim vs. the World         2010   \n",
       "14  Le Fabuleux Destin d'Amélie Poulain         2001   \n",
       "27                               El Bar         2017   \n",
       "8               Solo: A Star Wars Story         2018   \n",
       "\n",
       "                                             Synopsis  \\\n",
       "18  Dans cette suite de la comédie française Les V...   \n",
       "7   In 1970s Los Angeles, a private eye (Ryan Gosl...   \n",
       "20  Cleo (Yalitza Aparicio) es una joven empleada ...   \n",
       "11  Ce film raconte l'histoire de l'amitié improba...   \n",
       "12  Cette comédie romantique raconte l'histoire d'...   \n",
       "25  Esta serie de televisión española sigue las av...   \n",
       "6   Scott Pilgrim (Michael Cera) must defeat his n...   \n",
       "14  Cette comédie romantique raconte l'histoire d'...   \n",
       "27  Un grupo de personas quedan atrapadas en un ba...   \n",
       "8   A young Han Solo (Alden Ehrenreich) joins a gr...   \n",
       "\n",
       "                                               Review Original Language  \n",
       "18  \"Le film est une perte de temps totale. Les bl...            French  \n",
       "7   \"The Nice Guys tries too hard to be funny, and...           English  \n",
       "20  \"Roma es una película hermosa y conmovedora qu...           Spanish  \n",
       "11  \"Intouchables est un film incroyablement touch...            French  \n",
       "12  \"Amélie est un film absolument charmant qui vo...            French  \n",
       "25  \"Águila Roja es una serie aburrida y poco inte...           Spanish  \n",
       "6   \"It was difficult to sit through the whole thi...           English  \n",
       "14  \"Le Fabuleux Destin d'Amélie Poulain est un fi...            French  \n",
       "27  \"El Bar es una película ridícula y sin sentido...           Spanish  \n",
       "8   \"Dull and pointless, with none of the magic of...           English  "
      ],
      "text/html": [
       "<div>\n",
       "<style scoped>\n",
       "    .dataframe tbody tr th:only-of-type {\n",
       "        vertical-align: middle;\n",
       "    }\n",
       "\n",
       "    .dataframe tbody tr th {\n",
       "        vertical-align: top;\n",
       "    }\n",
       "\n",
       "    .dataframe thead th {\n",
       "        text-align: right;\n",
       "    }\n",
       "</style>\n",
       "<table border=\"1\" class=\"dataframe\">\n",
       "  <thead>\n",
       "    <tr style=\"text-align: right;\">\n",
       "      <th></th>\n",
       "      <th>Title</th>\n",
       "      <th>Year</th>\n",
       "      <th>Synopsis</th>\n",
       "      <th>Review</th>\n",
       "      <th>Original Language</th>\n",
       "    </tr>\n",
       "  </thead>\n",
       "  <tbody>\n",
       "    <tr>\n",
       "      <th>18</th>\n",
       "      <td>Les Visiteurs en Amérique</td>\n",
       "      <td>2000</td>\n",
       "      <td>Dans cette suite de la comédie française Les V...</td>\n",
       "      <td>\"Le film est une perte de temps totale. Les bl...</td>\n",
       "      <td>French</td>\n",
       "    </tr>\n",
       "    <tr>\n",
       "      <th>7</th>\n",
       "      <td>The Nice Guys</td>\n",
       "      <td>2016</td>\n",
       "      <td>In 1970s Los Angeles, a private eye (Ryan Gosl...</td>\n",
       "      <td>\"The Nice Guys tries too hard to be funny, and...</td>\n",
       "      <td>English</td>\n",
       "    </tr>\n",
       "    <tr>\n",
       "      <th>20</th>\n",
       "      <td>Roma</td>\n",
       "      <td>2018</td>\n",
       "      <td>Cleo (Yalitza Aparicio) es una joven empleada ...</td>\n",
       "      <td>\"Roma es una película hermosa y conmovedora qu...</td>\n",
       "      <td>Spanish</td>\n",
       "    </tr>\n",
       "    <tr>\n",
       "      <th>11</th>\n",
       "      <td>Intouchables</td>\n",
       "      <td>2011</td>\n",
       "      <td>Ce film raconte l'histoire de l'amitié improba...</td>\n",
       "      <td>\"Intouchables est un film incroyablement touch...</td>\n",
       "      <td>French</td>\n",
       "    </tr>\n",
       "    <tr>\n",
       "      <th>12</th>\n",
       "      <td>Amélie</td>\n",
       "      <td>2001</td>\n",
       "      <td>Cette comédie romantique raconte l'histoire d'...</td>\n",
       "      <td>\"Amélie est un film absolument charmant qui vo...</td>\n",
       "      <td>French</td>\n",
       "    </tr>\n",
       "    <tr>\n",
       "      <th>25</th>\n",
       "      <td>Águila Roja</td>\n",
       "      <td>(2009-2016)</td>\n",
       "      <td>Esta serie de televisión española sigue las av...</td>\n",
       "      <td>\"Águila Roja es una serie aburrida y poco inte...</td>\n",
       "      <td>Spanish</td>\n",
       "    </tr>\n",
       "    <tr>\n",
       "      <th>6</th>\n",
       "      <td>Scott Pilgrim vs. the World</td>\n",
       "      <td>2010</td>\n",
       "      <td>Scott Pilgrim (Michael Cera) must defeat his n...</td>\n",
       "      <td>\"It was difficult to sit through the whole thi...</td>\n",
       "      <td>English</td>\n",
       "    </tr>\n",
       "    <tr>\n",
       "      <th>14</th>\n",
       "      <td>Le Fabuleux Destin d'Amélie Poulain</td>\n",
       "      <td>2001</td>\n",
       "      <td>Cette comédie romantique raconte l'histoire d'...</td>\n",
       "      <td>\"Le Fabuleux Destin d'Amélie Poulain est un fi...</td>\n",
       "      <td>French</td>\n",
       "    </tr>\n",
       "    <tr>\n",
       "      <th>27</th>\n",
       "      <td>El Bar</td>\n",
       "      <td>2017</td>\n",
       "      <td>Un grupo de personas quedan atrapadas en un ba...</td>\n",
       "      <td>\"El Bar es una película ridícula y sin sentido...</td>\n",
       "      <td>Spanish</td>\n",
       "    </tr>\n",
       "    <tr>\n",
       "      <th>8</th>\n",
       "      <td>Solo: A Star Wars Story</td>\n",
       "      <td>2018</td>\n",
       "      <td>A young Han Solo (Alden Ehrenreich) joins a gr...</td>\n",
       "      <td>\"Dull and pointless, with none of the magic of...</td>\n",
       "      <td>English</td>\n",
       "    </tr>\n",
       "  </tbody>\n",
       "</table>\n",
       "</div>"
      ]
     },
     "execution_count": 3,
     "metadata": {},
     "output_type": "execute_result"
    }
   ],
   "execution_count": 3
  },
  {
   "cell_type": "markdown",
   "metadata": {},
   "source": [
    "### Text translation\n",
    "\n",
    "Translate the **Review** and **Synopsis** column values to English."
   ]
  },
  {
   "cell_type": "code",
   "metadata": {
    "ExecuteTime": {
     "end_time": "2024-09-05T18:46:51.751387Z",
     "start_time": "2024-09-05T18:46:51.745843Z"
    }
   },
   "source": [
    "# Define the model names for the translation tasks\n",
    "fr_en_model_name = \"Helsinki-NLP/opus-mt-fr-en\"\n",
    "es_en_model_name = \"Helsinki-NLP/opus-mt-es-en\""
   ],
   "outputs": [],
   "execution_count": 4
  },
  {
   "metadata": {
    "ExecuteTime": {
     "end_time": "2024-09-05T18:47:05.783111Z",
     "start_time": "2024-09-05T18:46:56.994279Z"
    }
   },
   "cell_type": "code",
   "source": [
    "# Create the models and tokenizers\n",
    "fr_en_model = MarianMTModel.from_pretrained(fr_en_model_name)\n",
    "es_en_model = MarianMTModel.from_pretrained(es_en_model_name)\n",
    "\n",
    "fr_en_tokenizer = MarianTokenizer.from_pretrained(fr_en_model_name)\n",
    "es_en_tokenizer = MarianTokenizer.from_pretrained(es_en_model_name)"
   ],
   "outputs": [],
   "execution_count": 5
  },
  {
   "cell_type": "code",
   "metadata": {
    "ExecuteTime": {
     "end_time": "2024-09-05T18:48:13.366958Z",
     "start_time": "2024-09-05T18:48:13.359363Z"
    }
   },
   "source": [
    "# TODO 3: Complete the function below\n",
    "def translate(text: str, model, tokenizer) -> str:\n",
    "    \"\"\"\n",
    "    function to translate a text using a model and tokenizer\n",
    "    \"\"\"\n",
    "    # encode the text using the tokenizer\n",
    "    inputs = tokenizer(text, return_tensors=\"pt\")\n",
    "\n",
    "    # generate the translation using the model\n",
    "    outputs = model.generate(**inputs)\n",
    "\n",
    "    # decode the generated output and return the translated text\n",
    "    decoded = tokenizer.decode(outputs[0],skip_special_tokens=True)\n",
    "    return decoded"
   ],
   "outputs": [],
   "execution_count": 6
  },
  {
   "cell_type": "code",
   "metadata": {
    "ExecuteTime": {
     "end_time": "2024-09-05T18:49:50.563884Z",
     "start_time": "2024-09-05T18:49:07.412106Z"
    }
   },
   "source": [
    "# Filter reviews in French and translate them to English\n",
    "df_fr = df[df[\"Original Language\"] == \"French\"].copy()\n",
    "fr_reviews = df_fr[\"Review\"]\n",
    "fr_reviews_en = fr_reviews.apply(lambda fr_reviews: translate(fr_reviews, fr_en_model,fr_en_tokenizer))\n",
    "\n",
    "fr_synopsis = df_fr[\"Synopsis\"]\n",
    "fr_synopsis_en = fr_synopsis.apply(lambda fr_synopsis: translate(fr_synopsis, fr_en_model,fr_en_tokenizer))"
   ],
   "outputs": [],
   "execution_count": 7
  },
  {
   "metadata": {
    "ExecuteTime": {
     "end_time": "2024-09-05T18:51:03.058218Z",
     "start_time": "2024-09-05T18:50:25.315757Z"
    }
   },
   "cell_type": "code",
   "source": [
    "# filter reviews in Spanish and translate to English\n",
    "df_es = df[df[\"Original Language\"] == \"Spanish\"]\n",
    "es_reviews = df_es[\"Review\"]\n",
    "es_reviews_en = es_reviews.apply(lambda es_reviews: translate(es_reviews, es_en_model,es_en_tokenizer))\n",
    "\n",
    "# filter synopsis in Spanish and translate to English\n",
    "es_synopsis = df_es[\"Synopsis\"]\n",
    "es_synopsis_en = es_synopsis.apply(lambda es_synopsis: translate(es_synopsis, es_en_model,es_en_tokenizer))"
   ],
   "outputs": [],
   "execution_count": 8
  },
  {
   "metadata": {
    "ExecuteTime": {
     "end_time": "2024-09-05T18:53:07.165410Z",
     "start_time": "2024-09-05T18:53:07.154793Z"
    }
   },
   "cell_type": "code",
   "source": "es_reviews_en, fr_synopsis_en",
   "outputs": [
    {
     "data": {
      "text/plain": [
       "(20    \"Rome is a beautiful and moving film that pays...\n",
       " 21    \"The Paper House is an exciting and addictive ...\n",
       " 22    \"And your mom is also a movie that stays with ...\n",
       " 23    \"The Labyrinth of Fauno is a fascinating and e...\n",
       " 24    \"Amores dogs is an intense and moving film tha...\n",
       " 25    \"Red Eagle is a boring and uninteresting serie...\n",
       " 26    \"Toc Toc is a boring and unoriginal film that ...\n",
       " 27    \"The Bar is a ridiculous and meaningless film ...\n",
       " 28    \"Torrente is a vulgar and offensive film that ...\n",
       " 29    \"The Incident is a boring and frightless film ...\n",
       " Name: Review, dtype: object,\n",
       " 10    This musical tells the story of a budding actr...\n",
       " 11    This film tells the story of the unlikely frie...\n",
       " 12    This romantic comedy tells the story of Amélie...\n",
       " 13    This film tells the story of a music teacher w...\n",
       " 14    This romantic comedy tells the story of Amélie...\n",
       " 15    The film follows the story of a group of rich ...\n",
       " 16    Two incompetent office workers find themselves...\n",
       " 17    In this film adaptation of the popular comic s...\n",
       " 18    In this continuation of the French comedy The ...\n",
       " 19    In the distant future, a mercenary has to esco...\n",
       " Name: Synopsis, dtype: object)"
      ]
     },
     "execution_count": 15,
     "metadata": {},
     "output_type": "execute_result"
    }
   ],
   "execution_count": 15
  },
  {
   "cell_type": "code",
   "metadata": {
    "ExecuteTime": {
     "end_time": "2024-09-05T18:54:13.390999Z",
     "start_time": "2024-09-05T18:54:13.379249Z"
    }
   },
   "source": [
    "# Filter out French reviews and synopses\n",
    "df_filtered = df[df[\"Original Language\"] != \"French\"]\n",
    "\n",
    "# Update DataFrame with translated reviews and synopses for French\n",
    "df_fr[\"Review\"] = fr_reviews_en\n",
    "df_fr[\"Synopsis\"] = fr_synopsis_en\n",
    "\n",
    "# Filter out Spanish reviews and synopses\n",
    "df_filtered = df_filtered[df_filtered[\"Original Language\"] != \"Spanish\"]\n",
    "\n",
    "# Update DataFrame with translated reviews and synopses for Spanish\n",
    "df_es[\"Review\"] = es_reviews_en\n",
    "df_es[\"Synopsis\"] = es_synopsis_en\n",
    "\n",
    "# Concatenate the modified DataFrames (English reviews and synopses) with the filtered DataFrame\n",
    "df = pd.concat([df_filtered, df_fr, df_es], ignore_index=True)"
   ],
   "outputs": [
    {
     "name": "stderr",
     "output_type": "stream",
     "text": [
      "C:\\Users\\oluse\\AppData\\Local\\Temp\\ipykernel_24932\\3060449894.py:12: SettingWithCopyWarning: \n",
      "A value is trying to be set on a copy of a slice from a DataFrame.\n",
      "Try using .loc[row_indexer,col_indexer] = value instead\n",
      "\n",
      "See the caveats in the documentation: https://pandas.pydata.org/pandas-docs/stable/user_guide/indexing.html#returning-a-view-versus-a-copy\n",
      "  df_es[\"Review\"] = es_reviews_en\n",
      "C:\\Users\\oluse\\AppData\\Local\\Temp\\ipykernel_24932\\3060449894.py:13: SettingWithCopyWarning: \n",
      "A value is trying to be set on a copy of a slice from a DataFrame.\n",
      "Try using .loc[row_indexer,col_indexer] = value instead\n",
      "\n",
      "See the caveats in the documentation: https://pandas.pydata.org/pandas-docs/stable/user_guide/indexing.html#returning-a-view-versus-a-copy\n",
      "  df_es[\"Synopsis\"] = es_synopsis_en\n"
     ]
    }
   ],
   "execution_count": 17
  },
  {
   "cell_type": "code",
   "metadata": {
    "ExecuteTime": {
     "end_time": "2024-09-05T18:54:35.917427Z",
     "start_time": "2024-09-05T18:54:35.900846Z"
    }
   },
   "source": [
    "df.sample(10)"
   ],
   "outputs": [
    {
     "data": {
      "text/plain": [
       "                                 Title  Year  \\\n",
       "18           Les Visiteurs en Amérique  2000   \n",
       "17         Astérix aux Jeux Olympiques  2008   \n",
       "28  Torrente: El brazo tonto de la ley  1998   \n",
       "0            The Shawshank Redemption   1994   \n",
       "22                   Y tu mamá también  2001   \n",
       "9                           The Island  2005   \n",
       "26                             Toc Toc  2017   \n",
       "23              El Laberinto del Fauno  2006   \n",
       "16      La Tour Montparnasse Infernale  2001   \n",
       "12                              Amélie  2001   \n",
       "\n",
       "                                             Synopsis  \\\n",
       "18  In this continuation of the French comedy The ...   \n",
       "17  In this film adaptation of the popular comic s...   \n",
       "28  In this Spanish comedy, a corrupt cop (played ...   \n",
       "0   Andy Dufresne (Tim Robbins), a successful bank...   \n",
       "22  Two teenage friends (Gael García Bernal and Di...   \n",
       "9   In a future where people are cloned for organ ...   \n",
       "26  In this Spanish comedy, a group of people with...   \n",
       "23  During the Spanish postwar period, Ofelia (Iva...   \n",
       "16  Two incompetent office workers find themselves...   \n",
       "12  This romantic comedy tells the story of Amélie...   \n",
       "\n",
       "                                               Review Original Language  \n",
       "18  \"The film is a total waste of time. The jokes ...            French  \n",
       "17  \"This film is a complete disappointment. The j...            French  \n",
       "28  \"Torrente is a vulgar and offensive film that ...           Spanish  \n",
       "0   \"The Shawshank Redemption is an inspiring tale...           English  \n",
       "22  \"And your mom is also a movie that stays with ...           Spanish  \n",
       "9   \"The Island is a bland and forgettable sci-fi ...           English  \n",
       "26  \"Toc Toc is a boring and unoriginal film that ...           Spanish  \n",
       "23  \"The Labyrinth of Fauno is a fascinating and e...           Spanish  \n",
       "16  \"I can't believe I've wasted time watching thi...            French  \n",
       "12  \"Amélie is an absolutely charming film that wi...            French  "
      ],
      "text/html": [
       "<div>\n",
       "<style scoped>\n",
       "    .dataframe tbody tr th:only-of-type {\n",
       "        vertical-align: middle;\n",
       "    }\n",
       "\n",
       "    .dataframe tbody tr th {\n",
       "        vertical-align: top;\n",
       "    }\n",
       "\n",
       "    .dataframe thead th {\n",
       "        text-align: right;\n",
       "    }\n",
       "</style>\n",
       "<table border=\"1\" class=\"dataframe\">\n",
       "  <thead>\n",
       "    <tr style=\"text-align: right;\">\n",
       "      <th></th>\n",
       "      <th>Title</th>\n",
       "      <th>Year</th>\n",
       "      <th>Synopsis</th>\n",
       "      <th>Review</th>\n",
       "      <th>Original Language</th>\n",
       "    </tr>\n",
       "  </thead>\n",
       "  <tbody>\n",
       "    <tr>\n",
       "      <th>18</th>\n",
       "      <td>Les Visiteurs en Amérique</td>\n",
       "      <td>2000</td>\n",
       "      <td>In this continuation of the French comedy The ...</td>\n",
       "      <td>\"The film is a total waste of time. The jokes ...</td>\n",
       "      <td>French</td>\n",
       "    </tr>\n",
       "    <tr>\n",
       "      <th>17</th>\n",
       "      <td>Astérix aux Jeux Olympiques</td>\n",
       "      <td>2008</td>\n",
       "      <td>In this film adaptation of the popular comic s...</td>\n",
       "      <td>\"This film is a complete disappointment. The j...</td>\n",
       "      <td>French</td>\n",
       "    </tr>\n",
       "    <tr>\n",
       "      <th>28</th>\n",
       "      <td>Torrente: El brazo tonto de la ley</td>\n",
       "      <td>1998</td>\n",
       "      <td>In this Spanish comedy, a corrupt cop (played ...</td>\n",
       "      <td>\"Torrente is a vulgar and offensive film that ...</td>\n",
       "      <td>Spanish</td>\n",
       "    </tr>\n",
       "    <tr>\n",
       "      <th>0</th>\n",
       "      <td>The Shawshank Redemption</td>\n",
       "      <td>1994</td>\n",
       "      <td>Andy Dufresne (Tim Robbins), a successful bank...</td>\n",
       "      <td>\"The Shawshank Redemption is an inspiring tale...</td>\n",
       "      <td>English</td>\n",
       "    </tr>\n",
       "    <tr>\n",
       "      <th>22</th>\n",
       "      <td>Y tu mamá también</td>\n",
       "      <td>2001</td>\n",
       "      <td>Two teenage friends (Gael García Bernal and Di...</td>\n",
       "      <td>\"And your mom is also a movie that stays with ...</td>\n",
       "      <td>Spanish</td>\n",
       "    </tr>\n",
       "    <tr>\n",
       "      <th>9</th>\n",
       "      <td>The Island</td>\n",
       "      <td>2005</td>\n",
       "      <td>In a future where people are cloned for organ ...</td>\n",
       "      <td>\"The Island is a bland and forgettable sci-fi ...</td>\n",
       "      <td>English</td>\n",
       "    </tr>\n",
       "    <tr>\n",
       "      <th>26</th>\n",
       "      <td>Toc Toc</td>\n",
       "      <td>2017</td>\n",
       "      <td>In this Spanish comedy, a group of people with...</td>\n",
       "      <td>\"Toc Toc is a boring and unoriginal film that ...</td>\n",
       "      <td>Spanish</td>\n",
       "    </tr>\n",
       "    <tr>\n",
       "      <th>23</th>\n",
       "      <td>El Laberinto del Fauno</td>\n",
       "      <td>2006</td>\n",
       "      <td>During the Spanish postwar period, Ofelia (Iva...</td>\n",
       "      <td>\"The Labyrinth of Fauno is a fascinating and e...</td>\n",
       "      <td>Spanish</td>\n",
       "    </tr>\n",
       "    <tr>\n",
       "      <th>16</th>\n",
       "      <td>La Tour Montparnasse Infernale</td>\n",
       "      <td>2001</td>\n",
       "      <td>Two incompetent office workers find themselves...</td>\n",
       "      <td>\"I can't believe I've wasted time watching thi...</td>\n",
       "      <td>French</td>\n",
       "    </tr>\n",
       "    <tr>\n",
       "      <th>12</th>\n",
       "      <td>Amélie</td>\n",
       "      <td>2001</td>\n",
       "      <td>This romantic comedy tells the story of Amélie...</td>\n",
       "      <td>\"Amélie is an absolutely charming film that wi...</td>\n",
       "      <td>French</td>\n",
       "    </tr>\n",
       "  </tbody>\n",
       "</table>\n",
       "</div>"
      ]
     },
     "execution_count": 18,
     "metadata": {},
     "output_type": "execute_result"
    }
   ],
   "execution_count": 18
  },
  {
   "cell_type": "markdown",
   "metadata": {},
   "source": [
    "### Sentiment Analysis\n",
    "\n",
    "Use HuggingFace pretrained model for sentiment analysis of the reviews. Store the sentiment result **Positive** or **Negative** in a new column titled **Sentiment** in the dataframe."
   ]
  },
  {
   "metadata": {
    "ExecuteTime": {
     "end_time": "2024-09-05T19:13:01.832017Z",
     "start_time": "2024-09-05T19:13:01.067235Z"
    }
   },
   "cell_type": "code",
   "source": [
    "# TODO 5: Update the code below\n",
    "# load sentiment analysis model\n",
    "model_name = \"distilbert-base-uncased-finetuned-sst-2-english\"\n",
    "sentiment_classifier = pipeline(\"sentiment-analysis\", model= model_name)"
   ],
   "outputs": [],
   "execution_count": 24
  },
  {
   "cell_type": "code",
   "metadata": {
    "ExecuteTime": {
     "end_time": "2024-09-05T19:15:19.087016Z",
     "start_time": "2024-09-05T19:15:19.080531Z"
    }
   },
   "source": [
    "# TODO 6: Complete the function below\n",
    "def analyze_sentiment(text, classifier):\n",
    "    \"\"\"\n",
    "    function to perform sentiment analysis on a text using a model\n",
    "    \"\"\"\n",
    "    result = classifier(text)\n",
    "    return result"
   ],
   "outputs": [],
   "execution_count": 25
  },
  {
   "cell_type": "code",
   "metadata": {
    "ExecuteTime": {
     "end_time": "2024-09-05T19:15:39.510792Z",
     "start_time": "2024-09-05T19:15:37.394066Z"
    }
   },
   "source": [
    "# TODO 7: Add code below for sentiment analysis\n",
    "# perform sentiment analysis on reviews and store results in new column\n",
    "reviews = df[\"Review\"]\n",
    "results = reviews.apply(lambda reviews: analyze_sentiment(reviews,sentiment_classifier))\n",
    "df[\"Sentiment\"] = results.apply(lambda results: results[0]['label'])"
   ],
   "outputs": [],
   "execution_count": 26
  },
  {
   "metadata": {
    "ExecuteTime": {
     "end_time": "2024-09-05T21:07:33.860117Z",
     "start_time": "2024-09-05T21:07:33.472547Z"
    }
   },
   "cell_type": "code",
   "source": "results",
   "outputs": [
    {
     "data": {
      "text/plain": [
       "0     [{'label': 'POSITIVE', 'score': 0.999888062477...\n",
       "1     [{'label': 'POSITIVE', 'score': 0.999881744384...\n",
       "2     [{'label': 'POSITIVE', 'score': 0.999884843826...\n",
       "3     [{'label': 'POSITIVE', 'score': 0.999883770942...\n",
       "4     [{'label': 'POSITIVE', 'score': 0.999885082244...\n",
       "5     [{'label': 'NEGATIVE', 'score': 0.999675154685...\n",
       "6     [{'label': 'NEGATIVE', 'score': 0.999802172183...\n",
       "7     [{'label': 'NEGATIVE', 'score': 0.999802410602...\n",
       "8     [{'label': 'NEGATIVE', 'score': 0.999798834323...\n",
       "9     [{'label': 'NEGATIVE', 'score': 0.999816358089...\n",
       "10    [{'label': 'POSITIVE', 'score': 0.999892830848...\n",
       "11    [{'label': 'POSITIVE', 'score': 0.999881267547...\n",
       "12    [{'label': 'POSITIVE', 'score': 0.999891877174...\n",
       "13    [{'label': 'POSITIVE', 'score': 0.999893188476...\n",
       "14    [{'label': 'POSITIVE', 'score': 0.999892711639...\n",
       "15    [{'label': 'NEGATIVE', 'score': 0.999705612659...\n",
       "16    [{'label': 'NEGATIVE', 'score': 0.999815285205...\n",
       "17    [{'label': 'NEGATIVE', 'score': 0.999798476696...\n",
       "18    [{'label': 'NEGATIVE', 'score': 0.999819338321...\n",
       "19    [{'label': 'NEGATIVE', 'score': 0.999813973903...\n",
       "20    [{'label': 'POSITIVE', 'score': 0.999879956245...\n",
       "21    [{'label': 'POSITIVE', 'score': 0.999889731407...\n",
       "22    [{'label': 'POSITIVE', 'score': 0.999874234199...\n",
       "23    [{'label': 'POSITIVE', 'score': 0.999873876571...\n",
       "24    [{'label': 'POSITIVE', 'score': 0.999887228012...\n",
       "25    [{'label': 'NEGATIVE', 'score': 0.999810993671...\n",
       "26    [{'label': 'NEGATIVE', 'score': 0.999818861484...\n",
       "27    [{'label': 'NEGATIVE', 'score': 0.999807894229...\n",
       "28    [{'label': 'NEGATIVE', 'score': 0.999754011631...\n",
       "29    [{'label': 'NEGATIVE', 'score': 0.999809801578...\n",
       "Name: Review, dtype: object"
      ]
     },
     "execution_count": 31,
     "metadata": {},
     "output_type": "execute_result"
    }
   ],
   "execution_count": 31
  },
  {
   "cell_type": "code",
   "metadata": {
    "ExecuteTime": {
     "end_time": "2024-09-05T19:15:42.119673Z",
     "start_time": "2024-09-05T19:15:42.103433Z"
    }
   },
   "source": [
    "df.sample(10)"
   ],
   "outputs": [
    {
     "data": {
      "text/plain": [
       "                                  Title  Year  \\\n",
       "14  Le Fabuleux Destin d'Amélie Poulain  2001   \n",
       "2                          Forrest Gump  1994   \n",
       "9                            The Island  2005   \n",
       "5                     Blade Runner 2049  2017   \n",
       "18            Les Visiteurs en Amérique  2000   \n",
       "12                               Amélie  2001   \n",
       "3                        The Godfather   1972   \n",
       "0             The Shawshank Redemption   1994   \n",
       "22                    Y tu mamá también  2001   \n",
       "13                        Les Choristes  2004   \n",
       "\n",
       "                                             Synopsis  \\\n",
       "14  This romantic comedy tells the story of Amélie...   \n",
       "2   Forrest Gump (Tom Hanks) is a simple man with ...   \n",
       "9   In a future where people are cloned for organ ...   \n",
       "5   Officer K (Ryan Gosling), a new blade runner f...   \n",
       "18  In this continuation of the French comedy The ...   \n",
       "12  This romantic comedy tells the story of Amélie...   \n",
       "3   Don Vito Corleone (Marlon Brando) is the head ...   \n",
       "0   Andy Dufresne (Tim Robbins), a successful bank...   \n",
       "22  Two teenage friends (Gael García Bernal and Di...   \n",
       "13  This film tells the story of a music teacher w...   \n",
       "\n",
       "                                               Review Original Language  \\\n",
       "14  \"The Fabulous Destiny of Amélie Poulain is an ...            French   \n",
       "2   \"Forrest Gump is a heartwarming and inspiratio...           English   \n",
       "9   \"The Island is a bland and forgettable sci-fi ...           English   \n",
       "5   \"Boring and too long. Nothing like the origina...           English   \n",
       "18  \"The film is a total waste of time. The jokes ...            French   \n",
       "12  \"Amélie is an absolutely charming film that wi...            French   \n",
       "3   \"The Godfather is a classic movie that stands ...           English   \n",
       "0   \"The Shawshank Redemption is an inspiring tale...           English   \n",
       "22  \"And your mom is also a movie that stays with ...           Spanish   \n",
       "13  \"The Choristes are a beautiful film that will ...            French   \n",
       "\n",
       "   Sentiment  \n",
       "14  POSITIVE  \n",
       "2   POSITIVE  \n",
       "9   NEGATIVE  \n",
       "5   NEGATIVE  \n",
       "18  NEGATIVE  \n",
       "12  POSITIVE  \n",
       "3   POSITIVE  \n",
       "0   POSITIVE  \n",
       "22  POSITIVE  \n",
       "13  POSITIVE  "
      ],
      "text/html": [
       "<div>\n",
       "<style scoped>\n",
       "    .dataframe tbody tr th:only-of-type {\n",
       "        vertical-align: middle;\n",
       "    }\n",
       "\n",
       "    .dataframe tbody tr th {\n",
       "        vertical-align: top;\n",
       "    }\n",
       "\n",
       "    .dataframe thead th {\n",
       "        text-align: right;\n",
       "    }\n",
       "</style>\n",
       "<table border=\"1\" class=\"dataframe\">\n",
       "  <thead>\n",
       "    <tr style=\"text-align: right;\">\n",
       "      <th></th>\n",
       "      <th>Title</th>\n",
       "      <th>Year</th>\n",
       "      <th>Synopsis</th>\n",
       "      <th>Review</th>\n",
       "      <th>Original Language</th>\n",
       "      <th>Sentiment</th>\n",
       "    </tr>\n",
       "  </thead>\n",
       "  <tbody>\n",
       "    <tr>\n",
       "      <th>14</th>\n",
       "      <td>Le Fabuleux Destin d'Amélie Poulain</td>\n",
       "      <td>2001</td>\n",
       "      <td>This romantic comedy tells the story of Amélie...</td>\n",
       "      <td>\"The Fabulous Destiny of Amélie Poulain is an ...</td>\n",
       "      <td>French</td>\n",
       "      <td>POSITIVE</td>\n",
       "    </tr>\n",
       "    <tr>\n",
       "      <th>2</th>\n",
       "      <td>Forrest Gump</td>\n",
       "      <td>1994</td>\n",
       "      <td>Forrest Gump (Tom Hanks) is a simple man with ...</td>\n",
       "      <td>\"Forrest Gump is a heartwarming and inspiratio...</td>\n",
       "      <td>English</td>\n",
       "      <td>POSITIVE</td>\n",
       "    </tr>\n",
       "    <tr>\n",
       "      <th>9</th>\n",
       "      <td>The Island</td>\n",
       "      <td>2005</td>\n",
       "      <td>In a future where people are cloned for organ ...</td>\n",
       "      <td>\"The Island is a bland and forgettable sci-fi ...</td>\n",
       "      <td>English</td>\n",
       "      <td>NEGATIVE</td>\n",
       "    </tr>\n",
       "    <tr>\n",
       "      <th>5</th>\n",
       "      <td>Blade Runner 2049</td>\n",
       "      <td>2017</td>\n",
       "      <td>Officer K (Ryan Gosling), a new blade runner f...</td>\n",
       "      <td>\"Boring and too long. Nothing like the origina...</td>\n",
       "      <td>English</td>\n",
       "      <td>NEGATIVE</td>\n",
       "    </tr>\n",
       "    <tr>\n",
       "      <th>18</th>\n",
       "      <td>Les Visiteurs en Amérique</td>\n",
       "      <td>2000</td>\n",
       "      <td>In this continuation of the French comedy The ...</td>\n",
       "      <td>\"The film is a total waste of time. The jokes ...</td>\n",
       "      <td>French</td>\n",
       "      <td>NEGATIVE</td>\n",
       "    </tr>\n",
       "    <tr>\n",
       "      <th>12</th>\n",
       "      <td>Amélie</td>\n",
       "      <td>2001</td>\n",
       "      <td>This romantic comedy tells the story of Amélie...</td>\n",
       "      <td>\"Amélie is an absolutely charming film that wi...</td>\n",
       "      <td>French</td>\n",
       "      <td>POSITIVE</td>\n",
       "    </tr>\n",
       "    <tr>\n",
       "      <th>3</th>\n",
       "      <td>The Godfather</td>\n",
       "      <td>1972</td>\n",
       "      <td>Don Vito Corleone (Marlon Brando) is the head ...</td>\n",
       "      <td>\"The Godfather is a classic movie that stands ...</td>\n",
       "      <td>English</td>\n",
       "      <td>POSITIVE</td>\n",
       "    </tr>\n",
       "    <tr>\n",
       "      <th>0</th>\n",
       "      <td>The Shawshank Redemption</td>\n",
       "      <td>1994</td>\n",
       "      <td>Andy Dufresne (Tim Robbins), a successful bank...</td>\n",
       "      <td>\"The Shawshank Redemption is an inspiring tale...</td>\n",
       "      <td>English</td>\n",
       "      <td>POSITIVE</td>\n",
       "    </tr>\n",
       "    <tr>\n",
       "      <th>22</th>\n",
       "      <td>Y tu mamá también</td>\n",
       "      <td>2001</td>\n",
       "      <td>Two teenage friends (Gael García Bernal and Di...</td>\n",
       "      <td>\"And your mom is also a movie that stays with ...</td>\n",
       "      <td>Spanish</td>\n",
       "      <td>POSITIVE</td>\n",
       "    </tr>\n",
       "    <tr>\n",
       "      <th>13</th>\n",
       "      <td>Les Choristes</td>\n",
       "      <td>2004</td>\n",
       "      <td>This film tells the story of a music teacher w...</td>\n",
       "      <td>\"The Choristes are a beautiful film that will ...</td>\n",
       "      <td>French</td>\n",
       "      <td>POSITIVE</td>\n",
       "    </tr>\n",
       "  </tbody>\n",
       "</table>\n",
       "</div>"
      ]
     },
     "execution_count": 27,
     "metadata": {},
     "output_type": "execute_result"
    }
   ],
   "execution_count": 27
  },
  {
   "cell_type": "code",
   "metadata": {
    "ExecuteTime": {
     "end_time": "2024-09-05T19:17:07.922320Z",
     "start_time": "2024-09-05T19:17:07.913519Z"
    }
   },
   "source": [
    "# export the results to a .csv file\n",
    "df.to_csv(\"data/output/reviews_with_sentiment.csv\", index=False)"
   ],
   "outputs": [],
   "execution_count": 30
  },
  {
   "cell_type": "code",
   "execution_count": null,
   "metadata": {},
   "outputs": [],
   "source": []
  }
 ],
 "metadata": {
  "kernelspec": {
   "display_name": "Python 3 (ipykernel)",
   "language": "python",
   "name": "python3"
  },
  "language_info": {
   "codemirror_mode": {
    "name": "ipython",
    "version": 3
   },
   "file_extension": ".py",
   "mimetype": "text/x-python",
   "name": "python",
   "nbconvert_exporter": "python",
   "pygments_lexer": "ipython3",
   "version": "3.10.11"
  }
 },
 "nbformat": 4,
 "nbformat_minor": 1
}
